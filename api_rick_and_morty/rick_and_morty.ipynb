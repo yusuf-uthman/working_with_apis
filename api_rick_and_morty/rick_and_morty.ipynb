{
 "cells": [
  {
   "cell_type": "code",
   "execution_count": null,
   "id": "008182c1",
   "metadata": {},
   "outputs": [],
   "source": [
    "import requests\n",
    "import pandas as pd"
   ]
  },
  {
   "cell_type": "markdown",
   "id": "5c583ab0",
   "metadata": {},
   "source": [
    "## 1 Using count"
   ]
  },
  {
   "cell_type": "code",
   "execution_count": null,
   "id": "32e46477",
   "metadata": {},
   "outputs": [],
   "source": [
    "page = 1\n",
    "data_count = []\n",
    "while True:\n",
    "    url = f'https://rickandmortyapi.com/api/character?page={page}'\n",
    "#     print(f'Requesting,  {url}')\n",
    "    response = requests.get(url)\n",
    "    if response.status_code == 200 and len(data_count) < response.json()['info']['count']:\n",
    "#         print(len(data_count))\n",
    "        data = response.json()\n",
    "        data_count.extend(data['results'])\n",
    "        page += 1\n",
    "    else:\n",
    "        break"
   ]
  },
  {
   "cell_type": "code",
   "execution_count": null,
   "id": "22354401",
   "metadata": {},
   "outputs": [],
   "source": [
    "len(data_count)"
   ]
  },
  {
   "cell_type": "code",
   "execution_count": null,
   "id": "4d429f32",
   "metadata": {
    "scrolled": false
   },
   "outputs": [],
   "source": [
    "df_data_count = pd.DataFrame(data_count)\n",
    "df_data_count.head()"
   ]
  },
  {
   "cell_type": "markdown",
   "id": "1692802a",
   "metadata": {},
   "source": [
    "## 2 Using Pages"
   ]
  },
  {
   "cell_type": "code",
   "execution_count": null,
   "id": "5f686d00",
   "metadata": {},
   "outputs": [],
   "source": [
    "#get pages\n",
    "url = 'https://rickandmortyapi.com/api/character?page=1'\n",
    "response = requests.get(url)\n",
    "if response.status_code == 200:\n",
    "    pages = response.json()['info']['pages']\n",
    "\n",
    "page = 1\n",
    "data_pages = []\n",
    "while page <= pages:\n",
    "    url = f'https://rickandmortyapi.com/api/character?page={page}'\n",
    "    response = requests.get(url)\n",
    "    if response.status_code == 200:\n",
    "        response = response.json()\n",
    "        data_pages.extend(response['results'])\n",
    "        page += 1"
   ]
  },
  {
   "cell_type": "code",
   "execution_count": null,
   "id": "1917a018",
   "metadata": {},
   "outputs": [],
   "source": [
    "len(data_pages)"
   ]
  },
  {
   "cell_type": "code",
   "execution_count": null,
   "id": "ae6e26c1",
   "metadata": {},
   "outputs": [],
   "source": [
    "df_pages = pd.DataFrame(data_pages)\n",
    "df_pages.head()"
   ]
  },
  {
   "cell_type": "markdown",
   "id": "fc82c0d2",
   "metadata": {},
   "source": [
    "## 3 Using Next_page"
   ]
  },
  {
   "cell_type": "code",
   "execution_count": null,
   "id": "dc7419d5",
   "metadata": {
    "scrolled": true
   },
   "outputs": [],
   "source": [
    "url = 'https://rickandmortyapi.com/api/character?page=1'\n",
    "data_next_page = []\n",
    "while url:\n",
    "#     print(f'Requesting,  {url}')\n",
    "    response = requests.get(url)\n",
    "    if response.status_code == 200:\n",
    "        response = response.json()\n",
    "        data_next_page.extend(response['results'])\n",
    "        url = response['info']['next']"
   ]
  },
  {
   "cell_type": "code",
   "execution_count": null,
   "id": "53fd6029",
   "metadata": {},
   "outputs": [],
   "source": [
    "len(data_next_page)"
   ]
  },
  {
   "cell_type": "code",
   "execution_count": null,
   "id": "fd6eac25",
   "metadata": {},
   "outputs": [],
   "source": [
    "df_data_next_page = pd.DataFrame(data_next_page)\n",
    "df_data_next_page.head()"
   ]
  },
  {
   "cell_type": "code",
   "execution_count": null,
   "id": "fc45f276",
   "metadata": {},
   "outputs": [],
   "source": [
    "import this"
   ]
  },
  {
   "cell_type": "code",
   "execution_count": null,
   "id": "3cd4f822",
   "metadata": {},
   "outputs": [],
   "source": [
    "response"
   ]
  },
  {
   "cell_type": "markdown",
   "id": "a92b6f0d",
   "metadata": {},
   "source": [
    "## Using Results"
   ]
  },
  {
   "cell_type": "code",
   "execution_count": null,
   "id": "0ae7bf42",
   "metadata": {},
   "outputs": [],
   "source": [
    "url = 'https://rickandmortyapi.com/api/character?page='\n",
    "page_num = 40\n",
    "data_results = []\n",
    "\n",
    "while True:\n",
    "    url = f'https://rickandmortyapi.com/api/character?page={page_num}'\n",
    "    response = requests.get(url)\n",
    "    data  = response.json()\n",
    "    \n",
    "    try:\n",
    "        print(len(data['results'][0]))\n",
    "    except:\n",
    "        print('No more results, Exit loop')\n",
    "        break\n",
    "    data_results.extend(data['results'])    \n",
    "    page_num +=1\n"
   ]
  },
  {
   "cell_type": "code",
   "execution_count": null,
   "id": "70b2c78c",
   "metadata": {},
   "outputs": [],
   "source": [
    "len(data_results)"
   ]
  },
  {
   "cell_type": "code",
   "execution_count": null,
   "id": "3d463220",
   "metadata": {},
   "outputs": [],
   "source": [
    "df_data_results = pd.DataFrame(data_results)\n",
    "df_data_results.head()"
   ]
  },
  {
   "cell_type": "code",
   "execution_count": null,
   "id": "a8cf2141",
   "metadata": {},
   "outputs": [],
   "source": []
  },
  {
   "cell_type": "code",
   "execution_count": null,
   "id": "ef24106c",
   "metadata": {},
   "outputs": [],
   "source": [
    "url = f'https://rickandmortyapi.com/api/character?page=1'\n",
    "response = requests.get(url)\n",
    "data  = response.json()"
   ]
  },
  {
   "cell_type": "code",
   "execution_count": null,
   "id": "ae0d6560",
   "metadata": {},
   "outputs": [],
   "source": [
    "\n",
    "\n",
    "for i in data:\n",
    "    ls = []\n",
    "    dict_ = {'name': i[0]['name'],\n",
    "         'species': i[0]['species'],\n",
    "         'origin_name': i[0]['origin']['name']\n",
    "        }\n",
    "    print(dict_)"
   ]
  },
  {
   "cell_type": "markdown",
   "id": "d7af04b4",
   "metadata": {},
   "source": [
    "## Assignment to insert api records into the database"
   ]
  },
  {
   "cell_type": "code",
   "execution_count": null,
   "id": "8c4b73f1",
   "metadata": {},
   "outputs": [],
   "source": [
    "import requests\n",
    "from sqlalchemy import create_engine \n",
    "import config"
   ]
  },
  {
   "cell_type": "code",
   "execution_count": null,
   "id": "70df742c",
   "metadata": {},
   "outputs": [],
   "source": [
    "password = config.password\n",
    "user = config.user\n",
    "db = config.db\n",
    "port = config.port\n",
    "host = config.host"
   ]
  },
  {
   "cell_type": "code",
   "execution_count": null,
   "id": "40843e0f",
   "metadata": {},
   "outputs": [],
   "source": [
    "schema = 'api_schema'\n",
    "table =  'rick_and_morty'\n",
    "page_num = 42"
   ]
  },
  {
   "cell_type": "code",
   "execution_count": null,
   "id": "2f4ec738",
   "metadata": {
    "scrolled": true
   },
   "outputs": [],
   "source": [
    "actor_dict_list = []\n",
    "actor_list_list = []\n",
    "\n",
    "while True:\n",
    "    url = f'https://rickandmortyapi.com/api/character?page={page_num}'\n",
    "    response = requests.get(url)\n",
    "    data  = response.json()\n",
    "    \n",
    "    try:\n",
    "        print(len(data['results'][0]))\n",
    "    except:\n",
    "        print('No more results, Exit loop')\n",
    "        break\n",
    "    for rec in data['results']:\n",
    "        #dictionary\n",
    "        actor_dict ={\n",
    "            'id': rec['id'],\n",
    "            'name': rec['name'],\n",
    "            'species': rec['species'],\n",
    "            'type': rec['type'],\n",
    "            'gender': rec['gender'],\n",
    "            'origin': rec['origin']['name'],\n",
    "            'url': rec['url'],\n",
    "            'location': rec['location']['name'],\n",
    "            'image': rec['image'],\n",
    "            'num_episode_feature': len(rec['episode']),\n",
    "            'created': rec['created']\n",
    "        }\n",
    "        #list\n",
    "        actor_list =[\n",
    "           rec['id'],\n",
    "           rec['name'],\n",
    "           rec['species'],\n",
    "           rec['type'],\n",
    "           rec['gender'],\n",
    "           rec['origin']['name'],\n",
    "           rec['url'],\n",
    "           rec['location']['name'],\n",
    "           rec['image'],\n",
    "       len(rec['episode']),\n",
    "           rec['created']\n",
    "        ]\n",
    "        actor_dict_list.append(actor_dict)\n",
    "        actor_list_list.append(actor_list)   \n",
    "    page_num +=1"
   ]
  },
  {
   "cell_type": "code",
   "execution_count": null,
   "id": "a6a2caae",
   "metadata": {},
   "outputs": [],
   "source": [
    "actor_dict_list\n",
    "len(actor_list_list)"
   ]
  },
  {
   "cell_type": "code",
   "execution_count": null,
   "id": "73bfbf2e",
   "metadata": {},
   "outputs": [],
   "source": [
    "# create connetion\n",
    "engine = create_engine(f\"postgresql://{user}:{password}@{host}:{port}/{db}\")\n",
    "conn = engine.raw_connection()\n",
    "cursor = conn.cursor()"
   ]
  },
  {
   "cell_type": "code",
   "execution_count": null,
   "id": "ed44af46",
   "metadata": {
    "scrolled": true
   },
   "outputs": [],
   "source": [
    "# ceate schema\n",
    "cursor.execute(f\"\"\" CREATE SCHEMA  if not exists {schema}; \"\"\")\n",
    "conn.commit()\n",
    "\n",
    "# create table\n",
    "cursor.execute(f\"\"\" \n",
    "CREATE TABLE IF NOT EXISTS {schema}.{table}(\n",
    "                    id SERIAL primary key,\n",
    "                    name varchar(200),\n",
    "                    species varchar(200),\n",
    "                    type varchar(200),\n",
    "                    gender varchar(20),\n",
    "                    origin varchar(200),\n",
    "                    url varchar(200),\n",
    "                    location varchar(200),\n",
    "                    image varchar(200),\n",
    "                    num_episode_feature int,\n",
    "                    created timestamp,  \n",
    "                    insert_date date DEFAULT now()\n",
    ")\n",
    "\"\"\")\n",
    "conn.commit()\n",
    "\n",
    "# truncate table\n",
    "cursor.execute(f\"\"\" Truncate table {schema}.{table}; \"\"\")\n",
    "conn.commit()"
   ]
  },
  {
   "cell_type": "code",
   "execution_count": null,
   "id": "dc2d4ad9",
   "metadata": {},
   "outputs": [],
   "source": [
    "# insert data into the  database\n",
    "for rec in actor_list_list:\n",
    "    cursor.execute(f\"\"\" INSERT into {schema}.{table}(id, name, species, type, gender, origin, url, location, image,\n",
    "                        num_episode_feature, created) VALUES (%s, %s, %s, %s, %s, %s, %s, %s, %s, %s, %s)  \n",
    "                    \"\"\", rec)\n",
    "\n",
    "# Commit your changes in the database\n",
    "conn.commit()"
   ]
  },
  {
   "cell_type": "code",
   "execution_count": null,
   "id": "58a22984",
   "metadata": {},
   "outputs": [],
   "source": [
    "script  = f\"\"\"SELECT * FROM {schema}.{table};\"\"\"\n",
    "cursor.execute(script)"
   ]
  },
  {
   "cell_type": "code",
   "execution_count": null,
   "id": "96c0aad5",
   "metadata": {},
   "outputs": [],
   "source": [
    "query_result = []\n",
    "for rec in cursor.fetchall():\n",
    "    query_result.append(rec)\n",
    "    print(rec)\n",
    "    print('__________')"
   ]
  },
  {
   "cell_type": "code",
   "execution_count": null,
   "id": "f49977b3",
   "metadata": {
    "scrolled": true
   },
   "outputs": [],
   "source": [
    "len(query_result)"
   ]
  },
  {
   "cell_type": "code",
   "execution_count": null,
   "id": "b78ed52f",
   "metadata": {},
   "outputs": [],
   "source": [
    "import pandas as pd\n",
    "\n",
    "column_names=['id', 'name', 'species', 'type', 'gender', 'origin', 'url', 'location', 'image', 'num_episode_feature',\n",
    "              'created', 'insert_date']\n",
    "df = pd.DataFrame(query_result, columns = column_names)\n",
    "df.head()"
   ]
  },
  {
   "cell_type": "markdown",
   "id": "fe0198cd",
   "metadata": {},
   "source": [
    "## Doing things with functions"
   ]
  },
  {
   "cell_type": "code",
   "execution_count": 2,
   "id": "7760a8b0",
   "metadata": {},
   "outputs": [],
   "source": [
    "# variables\n",
    "schema = 'api_schema'\n",
    "table =  'rick_and_morty'\n",
    "page_num = 41"
   ]
  },
  {
   "cell_type": "code",
   "execution_count": null,
   "id": "3c82052b",
   "metadata": {},
   "outputs": [],
   "source": [
    "# password = '06938df49ede973cf4716b6b2aba6a991a1f74a83eeb57b4ddc76d69001736b1'\n",
    "# user = 'kccnpcacazyzlp'\n",
    "# db = 'de4jsjsel5i78g'\n",
    "# port = 5432\n",
    "# host = 'ec2-3-225-213-67.compute-1.amazonaws.com'"
   ]
  },
  {
   "cell_type": "code",
   "execution_count": 3,
   "id": "91ad1e14",
   "metadata": {},
   "outputs": [
    {
     "name": "stdout",
     "output_type": "stream",
     "text": [
      "This payload has 12 records\n",
      "This payload has 12 records\n",
      "No more data in API, Exited loop!\n",
      "Data count from api and database are 26 and 26 respectively. Operation successfull!\n"
     ]
    }
   ],
   "source": [
    "import requests\n",
    "from sqlalchemy import create_engine \n",
    "import config\n",
    "\n",
    "# parse credentials\n",
    "password = config.password\n",
    "user = config.user\n",
    "db = config.db\n",
    "port = config.port\n",
    "host = config.host\n",
    "\n",
    "# create connetion\n",
    "engine = create_engine(f\"postgresql://{user}:{password}@{host}:{port}/{db}\")\n",
    "conn = engine.raw_connection()\n",
    "cursor = conn.cursor()\n",
    " \n",
    "# main function that calls all other functions\n",
    "def process_api_data_all(schema, table, page_num):\n",
    "    create_schema(schema)\n",
    "    create_table(schema, table)\n",
    "    truncate_table(schema, table)\n",
    "    data_inserted = pull_and_insert_data(schema, table, page_num)\n",
    "    data_fetched = query_database(schema, table)\n",
    "    if len(data_inserted[1]) == len(data_fetched):\n",
    "        print(f\"\"\"Data count from api and database are {len(data_inserted[1])} and {len(data_fetched)} respectively. Operation successfull!\"\"\")\n",
    "    else:\n",
    "        print('Incomplete  data transfer!')\n",
    "    conn.close()\n",
    "\n",
    "# create schema function\n",
    "def create_schema(schema):\n",
    "    cursor.execute(f\"\"\" CREATE SCHEMA  if not exists {schema};\"\"\")\n",
    "    conn.commit()\n",
    "    \n",
    "# create table function\n",
    "def create_table(schema, table):\n",
    "    cursor.execute(f\"\"\" \n",
    "    CREATE TABLE IF NOT EXISTS {schema}.{table}(\n",
    "                        id SERIAL primary key,\n",
    "                        name varchar(200),\n",
    "                        species varchar(200),\n",
    "                        type varchar(200),\n",
    "                        gender varchar(20),\n",
    "                        origin varchar(200),\n",
    "                        url varchar(200),\n",
    "                        location varchar(200),\n",
    "                        image varchar(200),\n",
    "                        num_episode_feature int,\n",
    "                        created timestamp,  \n",
    "                        insert_date date DEFAULT now()\n",
    "    )\n",
    "    \"\"\")\n",
    "    conn.commit()  \n",
    "\n",
    "# truncate table function\n",
    "def truncate_table(schema, table):\n",
    "    cursor.execute(f\"\"\" Truncate table {schema}.{table}; \"\"\")\n",
    "    conn.commit()      \n",
    "\n",
    "# api pull function to pull and insert\n",
    "def pull_and_insert_data(schema, table, page_num):\n",
    "    actor_dict_list = []  #list for dicts\n",
    "    actor_list_list = []  #list for lists\n",
    "\n",
    "    while True:\n",
    "        url = f'https://rickandmortyapi.com/api/character?page={page_num}'\n",
    "        response = requests.get(url)\n",
    "        data  = response.json()\n",
    "\n",
    "        try:\n",
    "            print(f\"This payload has {len(data['results'][0])} records\")\n",
    "        except:\n",
    "            print('No more data in API, Exited loop!')\n",
    "            break\n",
    "        for rec in data['results']:\n",
    "            #dictionary\n",
    "            actor_dict ={\n",
    "                'id': rec['id'],\n",
    "                'name': rec['name'],\n",
    "                'species': rec['species'],\n",
    "                'type': rec['type'],\n",
    "                'gender': rec['gender'],\n",
    "                'origin': rec['origin']['name'],\n",
    "                'url': rec['url'],\n",
    "                'location': rec['location']['name'],\n",
    "                'image': rec['image'],\n",
    "                'num_episode_feature': len(rec['episode']),\n",
    "                'created': rec['created']\n",
    "            }\n",
    "            #list\n",
    "            actor_list =[\n",
    "               rec['id'],\n",
    "               rec['name'],\n",
    "               rec['species'],\n",
    "               rec['type'],\n",
    "               rec['gender'],\n",
    "               rec['origin']['name'],\n",
    "               rec['url'],\n",
    "               rec['location']['name'],\n",
    "               rec['image'],\n",
    "           len(rec['episode']),\n",
    "               rec['created']\n",
    "            ]\n",
    "            actor_dict_list.append(actor_dict)\n",
    "            actor_list_list.append(actor_list)   \n",
    "        page_num +=1\n",
    "    for rec in actor_list_list:\n",
    "        cursor.execute(f\"\"\"INSERT into {schema}.{table}(id, name, species, type, gender, origin, url, location,\n",
    "                           image, num_episode_feature, created) VALUES (%s, %s, %s, %s, %s, %s, %s, %s, %s, %s, %s)  \n",
    "                        \"\"\", rec)\n",
    "        conn.commit()\n",
    "    return[actor_dict_list,actor_list_list]\n",
    "\n",
    "# fetch inserted data from database\n",
    "def query_database(schema, table):\n",
    "    query_result = []    \n",
    "    script  = f\"\"\"SELECT * FROM {schema}.{table};\"\"\"\n",
    "    cursor.execute(script)\n",
    "    for rec in cursor.fetchall():\n",
    "        query_result.append(rec)\n",
    "    return query_result\n",
    "\n",
    "# call all functions (variables already supplied above)\n",
    "if __name__ == '__main__':\n",
    "#     schema   = input(\"Enter Schema Name:\\n \").lower()\n",
    "#     table    = input(\"Enter Table Name:  \\n\").lower()\n",
    "#     page_num = int(input(\"Enter API Start Page Number: \\n\"))\n",
    "    process_api_data_all(schema, table, page_num)"
   ]
  },
  {
   "cell_type": "code",
   "execution_count": null,
   "id": "8307de36",
   "metadata": {},
   "outputs": [],
   "source": [
    "# CI with github secrets"
   ]
  },
  {
   "cell_type": "code",
   "execution_count": null,
   "id": "6ea5df57",
   "metadata": {},
   "outputs": [],
   "source": [
    "# profiles\n",
    "catchup_demo:\n",
    "  outputs:\n",
    "    dev:\n",
    "      type: postgres\n",
    "      threads: 3\n",
    "      host: \"{{ env_var('HEROKU_DEMO_PG_HOST') }}\"\n",
    "      port: 5432\n",
    "      user: \"{{ env_var('HEROKU_DEMO_PG_USER') }}\"\n",
    "      pass: \"{{ env_var('HEROKU_DEMO_PG_PASS') }}\"\n",
    "      dbname: \"{{ env_var('HEROKU_DEMO_PG_DB') }}\"\n",
    "\n",
    "# workflopw file\n",
    "name: catchup_demo_ci\n",
    "on:\n",
    "  pull_request:\n",
    "    branches: [ main ]\n",
    "  workflow_dispatch:\n",
    "jobs:\n",
    "  build:\n",
    "    runs-on: ubuntu-latest\n",
    "    env:\n",
    "      HEROKU_DEMO_PG_HOST: ${{ secrets.HEROKU_DEMO_PG_HOST }}\n",
    "      HEROKU_DEMO_PG_USER: ${{ secrets.HEROKU_DEMO_PG_USER }}\n",
    "      HEROKU_DEMO_PG_PASS: ${{ secrets.HEROKU_DEMO_PG_PASS }}\n",
    "      HEROKU_DEMO_PG_DB: ${{ secrets.HEROKU_DEMO_PG_DB }}      \n",
    "    steps:\n",
    "      - uses: actions/checkout@v2\n",
    "      - name: Setup Python\n",
    "        uses: actions/setup-python@v2\n",
    "        with:\n",
    "          python-version: '3.9'\n",
    "      - name: install sqlalchemy\n",
    "        run: pip install sqlalchemy\n",
    "      - name: Run dbt build\n",
    "        run: dbt build --target prod --profiles-dir ."
   ]
  },
  {
   "cell_type": "code",
   "execution_count": null,
   "id": "39586058",
   "metadata": {},
   "outputs": [],
   "source": []
  }
 ],
 "metadata": {
  "kernelspec": {
   "display_name": "Python 3 (ipykernel)",
   "language": "python",
   "name": "python3"
  },
  "language_info": {
   "codemirror_mode": {
    "name": "ipython",
    "version": 3
   },
   "file_extension": ".py",
   "mimetype": "text/x-python",
   "name": "python",
   "nbconvert_exporter": "python",
   "pygments_lexer": "ipython3",
   "version": "3.9.12"
  }
 },
 "nbformat": 4,
 "nbformat_minor": 5
}
