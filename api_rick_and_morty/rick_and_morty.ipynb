{
 "cells": [
  {
   "cell_type": "code",
   "execution_count": null,
   "id": "008182c1",
   "metadata": {},
   "outputs": [],
   "source": [
    "import requests\n",
    "import pandas as pd"
   ]
  },
  {
   "cell_type": "markdown",
   "id": "5c583ab0",
   "metadata": {},
   "source": [
    "## 1 Using count"
   ]
  },
  {
   "cell_type": "code",
   "execution_count": null,
   "id": "32e46477",
   "metadata": {},
   "outputs": [],
   "source": [
    "page = 1\n",
    "data_count = []\n",
    "while True:\n",
    "    url = f'https://rickandmortyapi.com/api/character?page={page}'\n",
    "#     print(f'Requesting,  {url}')\n",
    "    response = requests.get(url)\n",
    "    if response.status_code == 200 and len(data_count) < response.json()['info']['count']:\n",
    "#         print(len(data_count))\n",
    "        data = response.json()\n",
    "        data_count.extend(data['results'])\n",
    "        page += 1\n",
    "    else:\n",
    "        break"
   ]
  },
  {
   "cell_type": "code",
   "execution_count": null,
   "id": "22354401",
   "metadata": {},
   "outputs": [],
   "source": [
    "len(data_count)"
   ]
  },
  {
   "cell_type": "code",
   "execution_count": null,
   "id": "4d429f32",
   "metadata": {
    "scrolled": false
   },
   "outputs": [],
   "source": [
    "df_data_count = pd.DataFrame(data_count)\n",
    "df_data_count.head()"
   ]
  },
  {
   "cell_type": "markdown",
   "id": "1692802a",
   "metadata": {},
   "source": [
    "## 2 Using Pages"
   ]
  },
  {
   "cell_type": "code",
   "execution_count": null,
   "id": "5f686d00",
   "metadata": {},
   "outputs": [],
   "source": [
    "#get pages\n",
    "url = 'https://rickandmortyapi.com/api/character?page=1'\n",
    "response = requests.get(url)\n",
    "if response.status_code == 200:\n",
    "    pages = response.json()['info']['pages']\n",
    "\n",
    "page = 1\n",
    "data_pages = []\n",
    "while page <= pages:\n",
    "    url = f'https://rickandmortyapi.com/api/character?page={page}'\n",
    "    response = requests.get(url)\n",
    "    if response.status_code == 200:\n",
    "        response = response.json()\n",
    "        data_pages.extend(response['results'])\n",
    "        page += 1"
   ]
  },
  {
   "cell_type": "code",
   "execution_count": null,
   "id": "1917a018",
   "metadata": {},
   "outputs": [],
   "source": [
    "len(data_pages)"
   ]
  },
  {
   "cell_type": "code",
   "execution_count": null,
   "id": "ae6e26c1",
   "metadata": {},
   "outputs": [],
   "source": [
    "df_pages = pd.DataFrame(data_pages)\n",
    "df_pages.head()"
   ]
  },
  {
   "cell_type": "markdown",
   "id": "fc82c0d2",
   "metadata": {},
   "source": [
    "## 3 Using Next_page"
   ]
  },
  {
   "cell_type": "code",
   "execution_count": null,
   "id": "dc7419d5",
   "metadata": {
    "scrolled": true
   },
   "outputs": [],
   "source": [
    "url = 'https://rickandmortyapi.com/api/character?page=1'\n",
    "data_next_page = []\n",
    "while url:\n",
    "#     print(f'Requesting,  {url}')\n",
    "    response = requests.get(url)\n",
    "    if response.status_code == 200:\n",
    "        response = response.json()\n",
    "        data_next_page.extend(response['results'])\n",
    "        url = response['info']['next']"
   ]
  },
  {
   "cell_type": "code",
   "execution_count": null,
   "id": "53fd6029",
   "metadata": {},
   "outputs": [],
   "source": [
    "len(data_next_page)"
   ]
  },
  {
   "cell_type": "code",
   "execution_count": null,
   "id": "fd6eac25",
   "metadata": {},
   "outputs": [],
   "source": [
    "df_data_next_page = pd.DataFrame(data_next_page)\n",
    "df_data_next_page.head()"
   ]
  },
  {
   "cell_type": "code",
   "execution_count": null,
   "id": "fc45f276",
   "metadata": {},
   "outputs": [],
   "source": [
    "import this"
   ]
  },
  {
   "cell_type": "code",
   "execution_count": null,
   "id": "3cd4f822",
   "metadata": {},
   "outputs": [],
   "source": [
    "response"
   ]
  },
  {
   "cell_type": "markdown",
   "id": "a92b6f0d",
   "metadata": {},
   "source": [
    "## Using Results"
   ]
  },
  {
   "cell_type": "code",
   "execution_count": null,
   "id": "0ae7bf42",
   "metadata": {},
   "outputs": [],
   "source": [
    "url = 'https://rickandmortyapi.com/api/character?page='\n",
    "page_num = 40\n",
    "data_results = []\n",
    "\n",
    "while True:\n",
    "    url = f'https://rickandmortyapi.com/api/character?page={page_num}'\n",
    "    response = requests.get(url)\n",
    "    data  = response.json()\n",
    "    \n",
    "    try:\n",
    "        print(len(data['results'][0]))\n",
    "    except:\n",
    "        print('No more results, Exit loop')\n",
    "        break\n",
    "    data_results.extend(data['results'])    \n",
    "    page_num +=1\n"
   ]
  },
  {
   "cell_type": "code",
   "execution_count": null,
   "id": "70b2c78c",
   "metadata": {},
   "outputs": [],
   "source": [
    "len(data_results)"
   ]
  },
  {
   "cell_type": "code",
   "execution_count": null,
   "id": "3d463220",
   "metadata": {},
   "outputs": [],
   "source": [
    "df_data_results = pd.DataFrame(data_results)\n",
    "df_data_results.head()"
   ]
  },
  {
   "cell_type": "code",
   "execution_count": null,
   "id": "a8cf2141",
   "metadata": {},
   "outputs": [],
   "source": []
  },
  {
   "cell_type": "code",
   "execution_count": null,
   "id": "ef24106c",
   "metadata": {},
   "outputs": [],
   "source": [
    "url = f'https://rickandmortyapi.com/api/character?page=1'\n",
    "response = requests.get(url)\n",
    "data  = response.json()"
   ]
  },
  {
   "cell_type": "code",
   "execution_count": null,
   "id": "ae0d6560",
   "metadata": {},
   "outputs": [],
   "source": [
    "\n",
    "\n",
    "for i in data:\n",
    "    ls = []\n",
    "    dict_ = {'name': i[0]['name'],\n",
    "         'species': i[0]['species'],\n",
    "         'origin_name': i[0]['origin']['name']\n",
    "        }\n",
    "    print(dict_)"
   ]
  },
  {
   "cell_type": "markdown",
   "id": "d7af04b4",
   "metadata": {},
   "source": [
    "## Assignment to insert api records into the database"
   ]
  },
  {
   "cell_type": "code",
   "execution_count": 1,
   "id": "8c4b73f1",
   "metadata": {},
   "outputs": [],
   "source": [
    "import requests\n",
    "import pandas as pd\n",
    "from sqlalchemy import create_engine \n",
    "import config"
   ]
  },
  {
   "cell_type": "code",
   "execution_count": null,
   "id": "70df742c",
   "metadata": {},
   "outputs": [],
   "source": [
    "password = config.password\n",
    "user = config.user\n",
    "db = config.db\n",
    "port = config.port\n",
    "host = config.host"
   ]
  },
  {
   "cell_type": "code",
   "execution_count": 10,
   "id": "5e8ed5b0",
   "metadata": {
    "scrolled": true
   },
   "outputs": [
    {
     "name": "stdout",
     "output_type": "stream",
     "text": [
      "12\n",
      "[{'id': 801, 'name': '7+7 Years Old Morty', 'status': 'unknown', 'species': 'Human', 'type': '', 'gender': 'Male', 'origin': {'name': 'Citadel of Ricks', 'url': 'https://rickandmortyapi.com/api/location/3'}, 'location': {'name': 'Citadel of Ricks', 'url': 'https://rickandmortyapi.com/api/location/3'}, 'image': 'https://rickandmortyapi.com/api/character/avatar/801.jpeg', 'episode': ['https://rickandmortyapi.com/api/episode/51'], 'url': 'https://rickandmortyapi.com/api/character/801', 'created': '2021-11-02T13:12:26.860Z'}, {'id': 802, 'name': '26 Years Old Morty', 'status': 'Dead', 'species': 'Human', 'type': '', 'gender': 'Male', 'origin': {'name': 'Citadel of Ricks', 'url': 'https://rickandmortyapi.com/api/location/3'}, 'location': {'name': 'Citadel of Ricks', 'url': 'https://rickandmortyapi.com/api/location/3'}, 'image': 'https://rickandmortyapi.com/api/character/avatar/802.jpeg', 'episode': ['https://rickandmortyapi.com/api/episode/51'], 'url': 'https://rickandmortyapi.com/api/character/802', 'created': '2021-11-02T13:12:42.408Z'}, {'id': 803, 'name': '40 Years Old Morty', 'status': 'unknown', 'species': 'Human', 'type': '', 'gender': 'Male', 'origin': {'name': 'Citadel of Ricks', 'url': 'https://rickandmortyapi.com/api/location/3'}, 'location': {'name': 'Citadel of Ricks', 'url': 'https://rickandmortyapi.com/api/location/3'}, 'image': 'https://rickandmortyapi.com/api/character/avatar/803.jpeg', 'episode': ['https://rickandmortyapi.com/api/episode/51'], 'url': 'https://rickandmortyapi.com/api/character/803', 'created': '2021-11-02T13:13:51.515Z'}, {'id': 804, 'name': 'Andy', 'status': 'unknown', 'species': 'Human', 'type': 'Mascot', 'gender': 'Male', 'origin': {'name': 'unknown', 'url': ''}, 'location': {'name': 'Citadel of Ricks', 'url': 'https://rickandmortyapi.com/api/location/3'}, 'image': 'https://rickandmortyapi.com/api/character/avatar/804.jpeg', 'episode': ['https://rickandmortyapi.com/api/episode/51'], 'url': 'https://rickandmortyapi.com/api/character/804', 'created': '2021-11-02T13:19:19.807Z'}, {'id': 805, 'name': 'Baby Mouse Skin Morty', 'status': 'Alive', 'species': 'Human', 'type': '', 'gender': 'Male', 'origin': {'name': 'Citadel of Ricks', 'url': 'https://rickandmortyapi.com/api/location/3'}, 'location': {'name': 'Citadel of Ricks', 'url': 'https://rickandmortyapi.com/api/location/3'}, 'image': 'https://rickandmortyapi.com/api/character/avatar/805.jpeg', 'episode': ['https://rickandmortyapi.com/api/episode/51'], 'url': 'https://rickandmortyapi.com/api/character/805', 'created': '2021-11-02T13:31:17.973Z'}, {'id': 806, 'name': 'Metaphor for Capitalism', 'status': 'Dead', 'species': 'Humanoid', 'type': '', 'gender': 'Male', 'origin': {'name': 'Citadel of Ricks', 'url': 'https://rickandmortyapi.com/api/location/3'}, 'location': {'name': 'Citadel of Ricks', 'url': 'https://rickandmortyapi.com/api/location/3'}, 'image': 'https://rickandmortyapi.com/api/character/avatar/806.jpeg', 'episode': ['https://rickandmortyapi.com/api/episode/51'], 'url': 'https://rickandmortyapi.com/api/character/806', 'created': '2021-11-02T13:33:10.457Z'}, {'id': 807, 'name': 'Beth Sanchez', 'status': 'Dead', 'species': 'Human', 'type': '', 'gender': 'Female', 'origin': {'name': 'Earth (C-137)', 'url': 'https://rickandmortyapi.com/api/location/1'}, 'location': {'name': \"Rick's Memories\", 'url': 'https://rickandmortyapi.com/api/location/126'}, 'image': 'https://rickandmortyapi.com/api/character/avatar/807.jpeg', 'episode': ['https://rickandmortyapi.com/api/episode/51'], 'url': 'https://rickandmortyapi.com/api/character/807', 'created': '2021-11-02T13:39:31.038Z'}, {'id': 808, 'name': 'Crow Scare', 'status': 'Alive', 'species': 'Humanoid', 'type': 'Scarecrow', 'gender': 'Male', 'origin': {'name': 'Rick and Two Crows Planet', 'url': 'https://rickandmortyapi.com/api/location/125'}, 'location': {'name': 'Rick and Two Crows Planet', 'url': 'https://rickandmortyapi.com/api/location/125'}, 'image': 'https://rickandmortyapi.com/api/character/avatar/808.jpeg', 'episode': ['https://rickandmortyapi.com/api/episode/51'], 'url': 'https://rickandmortyapi.com/api/character/808', 'created': '2021-11-02T13:41:47.963Z'}, {'id': 809, 'name': 'Pussifer', 'status': 'Dead', 'species': 'Animal', 'type': 'Tiger', 'gender': 'Male', 'origin': {'name': 'Rick and Two Crows Planet', 'url': 'https://rickandmortyapi.com/api/location/125'}, 'location': {'name': 'Rick and Two Crows Planet', 'url': 'https://rickandmortyapi.com/api/location/125'}, 'image': 'https://rickandmortyapi.com/api/character/avatar/809.jpeg', 'episode': ['https://rickandmortyapi.com/api/episode/51'], 'url': 'https://rickandmortyapi.com/api/character/809', 'created': '2021-11-02T13:51:30.942Z'}, {'id': 810, 'name': 'Stan Lee Rick', 'status': 'unknown', 'species': 'Human', 'type': '', 'gender': 'Male', 'origin': {'name': 'unknown', 'url': ''}, 'location': {'name': 'Citadel of Ricks', 'url': 'https://rickandmortyapi.com/api/location/3'}, 'image': 'https://rickandmortyapi.com/api/character/avatar/810.jpeg', 'episode': ['https://rickandmortyapi.com/api/episode/51'], 'url': 'https://rickandmortyapi.com/api/character/810', 'created': '2021-11-02T13:55:06.815Z'}, {'id': 811, 'name': 'Re-Build-a-Morty Morty', 'status': 'unknown', 'species': 'Human', 'type': '', 'gender': 'Male', 'origin': {'name': 'unknown', 'url': ''}, 'location': {'name': 'Citadel of Ricks', 'url': 'https://rickandmortyapi.com/api/location/3'}, 'image': 'https://rickandmortyapi.com/api/character/avatar/811.jpeg', 'episode': ['https://rickandmortyapi.com/api/episode/51'], 'url': 'https://rickandmortyapi.com/api/character/811', 'created': '2021-11-02T14:06:40.357Z'}, {'id': 812, 'name': 'Deformed Morty', 'status': 'Dead', 'species': 'Humanoid', 'type': '', 'gender': 'Male', 'origin': {'name': 'Citadel of Ricks', 'url': 'https://rickandmortyapi.com/api/location/3'}, 'location': {'name': 'Citadel of Ricks', 'url': 'https://rickandmortyapi.com/api/location/3'}, 'image': 'https://rickandmortyapi.com/api/character/avatar/812.jpeg', 'episode': ['https://rickandmortyapi.com/api/episode/51'], 'url': 'https://rickandmortyapi.com/api/character/812', 'created': '2021-11-02T14:07:57.818Z'}, {'id': 813, 'name': 'Crow Horse', 'status': 'Alive', 'species': 'Robot', 'type': 'Crow Horse', 'gender': 'unknown', 'origin': {'name': 'Rick and Two Crows Planet', 'url': 'https://rickandmortyapi.com/api/location/125'}, 'location': {'name': 'Earth (Replacement Dimension)', 'url': 'https://rickandmortyapi.com/api/location/20'}, 'image': 'https://rickandmortyapi.com/api/character/avatar/813.jpeg', 'episode': ['https://rickandmortyapi.com/api/episode/51'], 'url': 'https://rickandmortyapi.com/api/character/813', 'created': '2021-11-02T14:11:56.442Z'}, {'id': 814, 'name': 'Bald Rick', 'status': 'Dead', 'species': 'Human', 'type': '', 'gender': 'Male', 'origin': {'name': 'unknown', 'url': ''}, 'location': {'name': \"Rick's Memories\", 'url': 'https://rickandmortyapi.com/api/location/126'}, 'image': 'https://rickandmortyapi.com/api/character/avatar/814.jpeg', 'episode': ['https://rickandmortyapi.com/api/episode/51'], 'url': 'https://rickandmortyapi.com/api/character/814', 'created': '2021-11-02T15:16:51.977Z'}, {'id': 815, 'name': 'Punk Rick', 'status': 'Dead', 'species': 'Human', 'type': '', 'gender': 'Male', 'origin': {'name': 'unknown', 'url': ''}, 'location': {'name': \"Rick's Memories\", 'url': 'https://rickandmortyapi.com/api/location/126'}, 'image': 'https://rickandmortyapi.com/api/character/avatar/815.jpeg', 'episode': ['https://rickandmortyapi.com/api/episode/51'], 'url': 'https://rickandmortyapi.com/api/character/815', 'created': '2021-11-02T15:19:11.398Z'}, {'id': 816, 'name': 'Party Rick', 'status': 'Dead', 'species': 'Human', 'type': '', 'gender': 'Male', 'origin': {'name': 'unknown', 'url': ''}, 'location': {'name': \"Rick's Memories\", 'url': 'https://rickandmortyapi.com/api/location/126'}, 'image': 'https://rickandmortyapi.com/api/character/avatar/816.jpeg', 'episode': ['https://rickandmortyapi.com/api/episode/51'], 'url': 'https://rickandmortyapi.com/api/character/816', 'created': '2021-11-02T15:21:28.996Z'}, {'id': 817, 'name': 'Scar Rick', 'status': 'Dead', 'species': 'Human', 'type': '', 'gender': 'Male', 'origin': {'name': 'unknown', 'url': ''}, 'location': {'name': \"Rick's Memories\", 'url': 'https://rickandmortyapi.com/api/location/126'}, 'image': 'https://rickandmortyapi.com/api/character/avatar/817.jpeg', 'episode': ['https://rickandmortyapi.com/api/episode/51'], 'url': 'https://rickandmortyapi.com/api/character/817', 'created': '2021-11-02T15:23:05.371Z'}, {'id': 818, 'name': 'Long Hair Rick', 'status': 'unknown', 'species': 'Human', 'type': '', 'gender': 'Male', 'origin': {'name': 'unknown', 'url': ''}, 'location': {'name': 'Citadel of Ricks', 'url': 'https://rickandmortyapi.com/api/location/3'}, 'image': 'https://rickandmortyapi.com/api/character/avatar/818.jpeg', 'episode': ['https://rickandmortyapi.com/api/episode/51'], 'url': 'https://rickandmortyapi.com/api/character/818', 'created': '2021-11-02T15:24:36.172Z'}, {'id': 819, 'name': 'Redhead Rick', 'status': 'Dead', 'species': 'Human', 'type': '', 'gender': 'Male', 'origin': {'name': 'unknown', 'url': ''}, 'location': {'name': 'Citadel of Ricks', 'url': 'https://rickandmortyapi.com/api/location/3'}, 'image': 'https://rickandmortyapi.com/api/character/avatar/819.jpeg', 'episode': ['https://rickandmortyapi.com/api/episode/51'], 'url': 'https://rickandmortyapi.com/api/character/819', 'created': '2021-11-02T15:26:36.495Z'}, {'id': 820, 'name': 'Redhead Morty', 'status': 'Dead', 'species': 'Human', 'type': '', 'gender': 'Male', 'origin': {'name': 'unknown', 'url': ''}, 'location': {'name': 'Citadel of Ricks', 'url': 'https://rickandmortyapi.com/api/location/3'}, 'image': 'https://rickandmortyapi.com/api/character/avatar/820.jpeg', 'episode': ['https://rickandmortyapi.com/api/episode/51'], 'url': 'https://rickandmortyapi.com/api/character/820', 'created': '2021-11-02T15:27:02.303Z'}]\n"
     ]
    },
    {
     "name": "stdout",
     "output_type": "stream",
     "text": [
      "12\n",
      "[{'id': 821, 'name': 'Gotron', 'status': 'unknown', 'species': 'Robot', 'type': 'Ferret Robot', 'gender': 'Genderless', 'origin': {'name': 'Earth (Replacement Dimension)', 'url': 'https://rickandmortyapi.com/api/location/20'}, 'location': {'name': 'Earth (Replacement Dimension)', 'url': 'https://rickandmortyapi.com/api/location/20'}, 'image': 'https://rickandmortyapi.com/api/character/avatar/821.jpeg', 'episode': ['https://rickandmortyapi.com/api/episode/48'], 'url': 'https://rickandmortyapi.com/api/character/821', 'created': '2021-11-02T17:15:24.788Z'}, {'id': 822, 'name': 'Young Jerry', 'status': 'unknown', 'species': 'Human', 'type': '', 'gender': 'Male', 'origin': {'name': 'Earth (Unknown dimension)', 'url': 'https://rickandmortyapi.com/api/location/30'}, 'location': {'name': 'Earth (Unknown dimension)', 'url': 'https://rickandmortyapi.com/api/location/30'}, 'image': 'https://rickandmortyapi.com/api/character/avatar/822.jpeg', 'episode': ['https://rickandmortyapi.com/api/episode/51'], 'url': 'https://rickandmortyapi.com/api/character/822', 'created': '2021-11-02T17:18:31.934Z'}, {'id': 823, 'name': 'Young Beth', 'status': 'unknown', 'species': 'Human', 'type': '', 'gender': 'Female', 'origin': {'name': 'Earth (Unknown dimension)', 'url': 'https://rickandmortyapi.com/api/location/30'}, 'location': {'name': 'Earth (Unknown dimension)', 'url': 'https://rickandmortyapi.com/api/location/30'}, 'image': 'https://rickandmortyapi.com/api/character/avatar/823.jpeg', 'episode': ['https://rickandmortyapi.com/api/episode/51'], 'url': 'https://rickandmortyapi.com/api/character/823', 'created': '2021-11-02T17:19:00.951Z'}, {'id': 824, 'name': 'Young Beth', 'status': 'unknown', 'species': 'Human', 'type': '', 'gender': 'Female', 'origin': {'name': 'Earth (Unknown dimension)', 'url': 'https://rickandmortyapi.com/api/location/30'}, 'location': {'name': 'Earth (Unknown dimension)', 'url': 'https://rickandmortyapi.com/api/location/30'}, 'image': 'https://rickandmortyapi.com/api/character/avatar/824.jpeg', 'episode': ['https://rickandmortyapi.com/api/episode/51'], 'url': 'https://rickandmortyapi.com/api/character/824', 'created': '2021-11-02T17:19:47.957Z'}, {'id': 825, 'name': 'Young Jerry', 'status': 'unknown', 'species': 'Human', 'type': '', 'gender': 'Male', 'origin': {'name': 'Earth (Unknown dimension)', 'url': 'https://rickandmortyapi.com/api/location/30'}, 'location': {'name': 'Earth (Unknown dimension)', 'url': 'https://rickandmortyapi.com/api/location/30'}, 'image': 'https://rickandmortyapi.com/api/character/avatar/825.jpeg', 'episode': ['https://rickandmortyapi.com/api/episode/51'], 'url': 'https://rickandmortyapi.com/api/character/825', 'created': '2021-11-02T17:20:14.305Z'}, {'id': 826, 'name': 'Butter Robot', 'status': 'Alive', 'species': 'Robot', 'type': 'Passing Butter Robot', 'gender': 'Genderless', 'origin': {'name': 'Earth (Replacement Dimension)', 'url': 'https://rickandmortyapi.com/api/location/20'}, 'location': {'name': 'Earth (Replacement Dimension)', 'url': 'https://rickandmortyapi.com/api/location/20'}, 'image': 'https://rickandmortyapi.com/api/character/avatar/826.jpeg', 'episode': ['https://rickandmortyapi.com/api/episode/9'], 'url': 'https://rickandmortyapi.com/api/character/826', 'created': '2021-11-02T17:24:37.458Z'}]\n"
     ]
    }
   ],
   "source": [
    "# approach 1\n",
    "page_num = 41\n",
    "data_results = []\n",
    "\n",
    "url = f'https://rickandmortyapi.com/api/character?page={page_num}'\n",
    "response = requests.get(url)\n",
    "\n",
    "\n",
    "while True:\n",
    "    url = f'https://rickandmortyapi.com/api/character?page={page_num}'\n",
    "    response = requests.get(url)\n",
    "    data  = response.json()\n",
    "    try:\n",
    "        print((len(data['results'][0])))\n",
    "    except:\n",
    "#         print('No more results, Exit loop')\n",
    "        break\n",
    "#     data_results.extend(data['results'])\n",
    "    print(data['results'])\n",
    "    page_num +=1"
   ]
  },
  {
   "cell_type": "code",
   "execution_count": 9,
   "id": "1efae12f",
   "metadata": {},
   "outputs": [
    {
     "data": {
      "text/plain": [
       "<Response [200]>"
      ]
     },
     "execution_count": 9,
     "metadata": {},
     "output_type": "execute_result"
    }
   ],
   "source": [
    "response"
   ]
  },
  {
   "cell_type": "code",
   "execution_count": null,
   "id": "6812477a",
   "metadata": {},
   "outputs": [],
   "source": []
  },
  {
   "cell_type": "code",
   "execution_count": null,
   "id": "2f4ec738",
   "metadata": {
    "scrolled": true
   },
   "outputs": [],
   "source": [
    "# approach 2\n",
    "page_num = 1\n",
    "\n",
    "actor_dict_list = []\n",
    "actor_list_list = []\n",
    "\n",
    "while True:\n",
    "    url = f'https://rickandmortyapi.com/api/character?page={page_num}'\n",
    "    response = requests.get(url)\n",
    "    data  = response.json()\n",
    "    \n",
    "    try:\n",
    "        print(len(data['results'][0]))\n",
    "    except:\n",
    "        print('No more results, Exit loop')\n",
    "        break\n",
    "    for rec in data['results']:\n",
    "        #dictionary\n",
    "        actor_dict ={\n",
    "            'id': rec['id'],\n",
    "            'name': rec['name'],\n",
    "            'species': rec['species'],\n",
    "            'type': rec['type'],\n",
    "            'gender': rec['gender'],\n",
    "            'origin': rec['origin']['name'],\n",
    "            'url': rec['url'],\n",
    "            'location': rec['location']['name'],\n",
    "            'image': rec['image'],\n",
    "            'num_episode_feature': len(rec['episode']),\n",
    "            'created': rec['created']\n",
    "        }\n",
    "        #list\n",
    "        actor_list =[\n",
    "           rec['id'],\n",
    "           rec['name'],\n",
    "           rec['species'],\n",
    "           rec['type'],\n",
    "           rec['gender'],\n",
    "           rec['origin']['name'],\n",
    "           rec['url'],\n",
    "           rec['location']['name'],\n",
    "           rec['image'],\n",
    "       len(rec['episode']),\n",
    "           rec['created']\n",
    "        ]\n",
    "        actor_dict_list.append(actor_dict)\n",
    "        actor_list_list.append(actor_list)   \n",
    "    page_num +=1"
   ]
  },
  {
   "cell_type": "code",
   "execution_count": null,
   "id": "a6a2caae",
   "metadata": {},
   "outputs": [],
   "source": [
    "# list and dictionary of the data\n",
    "actor_dict_list\n",
    "len(actor_list_list)"
   ]
  },
  {
   "cell_type": "code",
   "execution_count": null,
   "id": "ed44af46",
   "metadata": {
    "scrolled": true
   },
   "outputs": [],
   "source": [
    "# ceate schema\n",
    "cursor.execute(\"\"\" CREATE SCHEMA  if not exists api_schema; \"\"\")\n",
    "conn.commit()\n",
    "\n",
    "# create table\n",
    "cursor.execute(\"\"\" \n",
    "CREATE TABLE IF NOT EXISTS api_schema.rick_and_morty(\n",
    "                    id SERIAL primary key,\n",
    "                    name varchar(200),\n",
    "                    species varchar(200),\n",
    "                    type varchar(200),\n",
    "                    gender varchar(20),\n",
    "                    origin varchar(200),\n",
    "                    url varchar(200),\n",
    "                    location varchar(200),\n",
    "                    image varchar(200),\n",
    "                    num_episode_feature int,\n",
    "                    created timestamp,  \n",
    "                    insert_date date DEFAULT now()\n",
    ")\n",
    "\"\"\")\n",
    "conn.commit()\n",
    "\n",
    "# truncate table\n",
    "cursor.execute(\"\"\" Truncate table api_schema.rick_and_morty; \"\"\")\n",
    "conn.commit()"
   ]
  },
  {
   "cell_type": "code",
   "execution_count": null,
   "id": "dc2d4ad9",
   "metadata": {},
   "outputs": [],
   "source": [
    "# insert data into the  database\n",
    "for rec in data:\n",
    "    cursor.execute(\"\"\"INSERT into api_schema.rick_and_morty(id, name, species, type, gender, origin, url, location, image,\n",
    "    num_episode_feature, created) VALUES (%s, %s, %s, %s, %s, %s, %s, %s, %s, %s, %s)  \"\"\", rec)\n",
    "\n",
    "# Commit your changes in the database\n",
    "conn.commit()"
   ]
  },
  {
   "cell_type": "code",
   "execution_count": null,
   "id": "77d8dd13",
   "metadata": {},
   "outputs": [],
   "source": [
    "# # direct connection deatils\n",
    "# password = '06938df49ede973cf4716b6b2aba6a991a1f74a83eeb57b4ddc76d69001736b1'\n",
    "# user = 'kccnpcacazyzlp'\n",
    "# db = 'de4jsjsel5i78g'\n",
    "# port = 5432 #int(config.port)\n",
    "# host = 'ec2-3-225-213-67.compute-1.amazonaws.com'"
   ]
  },
  {
   "cell_type": "code",
   "execution_count": null,
   "id": "3949f3e9",
   "metadata": {},
   "outputs": [],
   "source": [
    "# create connetion\n",
    "engine = create_engine(f\"postgresql://{user}:{password}@{host}:{port}/{db}\")\n",
    "conn = engine.raw_connection()\n",
    "cursor = conn.cursor()"
   ]
  },
  {
   "cell_type": "code",
   "execution_count": null,
   "id": "a208bf04",
   "metadata": {
    "scrolled": true
   },
   "outputs": [],
   "source": [
    "engine"
   ]
  },
  {
   "cell_type": "code",
   "execution_count": null,
   "id": "58a22984",
   "metadata": {},
   "outputs": [],
   "source": [
    "script  = \"\"\"SELECT *\n",
    "             FROM api_schema.rick_and_morty;\"\"\"\n",
    "cursor.execute(script)"
   ]
  },
  {
   "cell_type": "code",
   "execution_count": null,
   "id": "96c0aad5",
   "metadata": {},
   "outputs": [],
   "source": [
    "query_result = []\n",
    "for rec in cursor.fetchall():\n",
    "    query_result.append(rec)"
   ]
  },
  {
   "cell_type": "code",
   "execution_count": null,
   "id": "f49977b3",
   "metadata": {
    "scrolled": true
   },
   "outputs": [],
   "source": [
    "len(query_result)"
   ]
  },
  {
   "cell_type": "code",
   "execution_count": null,
   "id": "b78ed52f",
   "metadata": {},
   "outputs": [],
   "source": [
    "import pandas as pd\n",
    "\n",
    "column_names=['id', 'name', 'species', 'type', 'gender', 'origin', 'url', 'location', 'image', 'num_episode_feature',\n",
    "              'created', 'insert_date']\n",
    "df = pd.DataFrame(query_result, columns = column_names)\n",
    "df.head()"
   ]
  },
  {
   "cell_type": "markdown",
   "id": "fe0198cd",
   "metadata": {},
   "source": [
    "## Doing things with functions"
   ]
  },
  {
   "cell_type": "code",
   "execution_count": null,
   "id": "7760a8b0",
   "metadata": {},
   "outputs": [],
   "source": [
    "schema = 'api_schema'\n",
    "table =  'rick_and_morty'\n",
    "page_num = 41"
   ]
  },
  {
   "cell_type": "code",
   "execution_count": null,
   "id": "3c82052b",
   "metadata": {},
   "outputs": [],
   "source": [
    "password = '06938df49ede973cf4716b6b2aba6a991a1f74a83eeb57b4ddc76d69001736b1'\n",
    "user = 'kccnpcacazyzlp'\n",
    "db = 'de4jsjsel5i78g'\n",
    "port = 5432\n",
    "host = 'ec2-3-225-213-67.compute-1.amazonaws.com'"
   ]
  },
  {
   "cell_type": "code",
   "execution_count": null,
   "id": "91ad1e14",
   "metadata": {},
   "outputs": [],
   "source": [
    "import requests\n",
    "from sqlalchemy import create_engine \n",
    "import config\n",
    "\n",
    "# create connetion\n",
    "engine = create_engine(f\"postgresql://{user}:{password}@{host}:{port}/{db}\")\n",
    "conn = engine.raw_connection()\n",
    "cursor = conn.cursor()\n",
    " \n",
    "# main function that calls all other functions\n",
    "def process_api_data_all(schema, table, page_num):\n",
    "    create_schema(schema)\n",
    "    create_table(schema, table)\n",
    "    truncate_table(schema, table)\n",
    "    data_inserted = pull_and_insert_data(schema, table, page_num)\n",
    "    data_fetched = query_database(schema, table)\n",
    "    if len(data_inserted[1]) == len(data_fetched):\n",
    "        print(f\"\"\"Data count from api and database are {len(data_inserted[1])} and {len(data_fetched)} respectively. Operation successfull!\"\"\")\n",
    "    conn.close()\n",
    "\n",
    "# create schema function\n",
    "def create_schema(schema):\n",
    "    cursor.execute(f\"\"\" CREATE SCHEMA  if not exists {schema};\"\"\")\n",
    "    conn.commit()\n",
    "    \n",
    "# create table function\n",
    "def create_table(schema, table):\n",
    "    cursor.execute(f\"\"\" \n",
    "    CREATE TABLE IF NOT EXISTS {schema}.{table}(\n",
    "                        id SERIAL primary key,\n",
    "                        name varchar(200),\n",
    "                        species varchar(200),\n",
    "                        type varchar(200),\n",
    "                        gender varchar(20),\n",
    "                        origin varchar(200),\n",
    "                        url varchar(200),\n",
    "                        location varchar(200),\n",
    "                        image varchar(200),\n",
    "                        num_episode_feature int,\n",
    "                        created timestamp,  \n",
    "                        insert_date date DEFAULT now()\n",
    "    )\n",
    "    \"\"\")\n",
    "    conn.commit()  \n",
    "\n",
    "# truncate table function\n",
    "def truncate_table(schema, table):\n",
    "    cursor.execute(f\"\"\" Truncate table {schema}.{table}; \"\"\")\n",
    "    conn.commit()      \n",
    "\n",
    "# api pull function to pull and insert\n",
    "def pull_and_insert_data(schema, table, page_num):\n",
    "    actor_dict_list = []  #list for dicts\n",
    "    actor_list_list = []  #list for lists\n",
    "\n",
    "    while True:\n",
    "        url = f'https://rickandmortyapi.com/api/character?page={page_num}'\n",
    "        response = requests.get(url)\n",
    "        data  = response.json()\n",
    "\n",
    "        try:\n",
    "            print(f\"This payload has {len(data['results'][0])} records\")\n",
    "        except:\n",
    "            print('No more data in API, Exited loop!')\n",
    "            break\n",
    "        for rec in data['results']:\n",
    "            #dictionary\n",
    "            actor_dict ={\n",
    "                'id': rec['id'],\n",
    "                'name': rec['name'],\n",
    "                'species': rec['species'],\n",
    "                'type': rec['type'],\n",
    "                'gender': rec['gender'],\n",
    "                'origin': rec['origin']['name'],\n",
    "                'url': rec['url'],\n",
    "                'location': rec['location']['name'],\n",
    "                'image': rec['image'],\n",
    "                'num_episode_feature': len(rec['episode']),\n",
    "                'created': rec['created']\n",
    "            }\n",
    "            #list\n",
    "            actor_list =[\n",
    "               rec['id'],\n",
    "               rec['name'],\n",
    "               rec['species'],\n",
    "               rec['type'],\n",
    "               rec['gender'],\n",
    "               rec['origin']['name'],\n",
    "               rec['url'],\n",
    "               rec['location']['name'],\n",
    "               rec['image'],\n",
    "           len(rec['episode']),\n",
    "               rec['created']\n",
    "            ]\n",
    "            actor_dict_list.append(actor_dict)\n",
    "            actor_list_list.append(actor_list)   \n",
    "        page_num +=1\n",
    "    for rec in actor_list_list:\n",
    "        cursor.execute(f\"\"\"INSERT into {schema}.{table}(id, name, species, type, gender, origin, url, location,\n",
    "                           image, num_episode_feature, created) VALUES (%s, %s, %s, %s, %s, %s, %s, %s, %s, %s, %s)  \n",
    "                        \"\"\", rec)\n",
    "        conn.commit()\n",
    "    return[actor_dict_list,actor_list_list]\n",
    "\n",
    "# fetch inserted data from database\n",
    "def query_database(schema, table):\n",
    "    query_result = []    \n",
    "    script  = f\"\"\"SELECT * FROM {schema}.{table};\"\"\"\n",
    "    cursor.execute(script)\n",
    "    for rec in cursor.fetchall():\n",
    "        query_result.append(rec)\n",
    "    return query_result\n",
    "\n",
    "if __name__ == '__main__':\n",
    "    schema   = input(\"Enter Schema Name:\\n \").lower()\n",
    "    table    = input(\"Enter Table Name:  \\n\").lower()\n",
    "    page_num = int(input(\"Enter API Start Page Number: \\n\"))\n",
    "    process_api_data_all(schema, table, page_num)"
   ]
  }
 ],
 "metadata": {
  "kernelspec": {
   "display_name": "Python 3 (ipykernel)",
   "language": "python",
   "name": "python3"
  },
  "language_info": {
   "codemirror_mode": {
    "name": "ipython",
    "version": 3
   },
   "file_extension": ".py",
   "mimetype": "text/x-python",
   "name": "python",
   "nbconvert_exporter": "python",
   "pygments_lexer": "ipython3",
   "version": "3.9.12"
  }
 },
 "nbformat": 4,
 "nbformat_minor": 5
}
