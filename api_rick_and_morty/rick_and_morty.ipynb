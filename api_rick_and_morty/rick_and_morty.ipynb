{
 "cells": [
  {
   "cell_type": "code",
   "execution_count": 12,
   "id": "008182c1",
   "metadata": {},
   "outputs": [],
   "source": [
    "import requests\n",
    "import pandas as pd"
   ]
  },
  {
   "cell_type": "markdown",
   "id": "5c583ab0",
   "metadata": {},
   "source": [
    "## 1 Using count"
   ]
  },
  {
   "cell_type": "code",
   "execution_count": null,
   "id": "32e46477",
   "metadata": {},
   "outputs": [],
   "source": [
    "page = 1\n",
    "data_count = []\n",
    "while True:\n",
    "    url = f'https://rickandmortyapi.com/api/character?page={page}'\n",
    "#     print(f'Requesting,  {url}')\n",
    "    response = requests.get(url)\n",
    "    if response.status_code == 200 and len(data_count) < response.json()['info']['count']:\n",
    "#         print(len(data_count))\n",
    "        data = response.json()\n",
    "        data_count.extend(data['results'])\n",
    "        page += 1\n",
    "    else:\n",
    "        break"
   ]
  },
  {
   "cell_type": "code",
   "execution_count": null,
   "id": "22354401",
   "metadata": {},
   "outputs": [],
   "source": [
    "len(data_count)"
   ]
  },
  {
   "cell_type": "code",
   "execution_count": null,
   "id": "4d429f32",
   "metadata": {
    "scrolled": false
   },
   "outputs": [],
   "source": [
    "df_data_count = pd.DataFrame(data_count)\n",
    "df_data_count.head()"
   ]
  },
  {
   "cell_type": "markdown",
   "id": "1692802a",
   "metadata": {},
   "source": [
    "## 2 Using Pages"
   ]
  },
  {
   "cell_type": "code",
   "execution_count": 7,
   "id": "5f686d00",
   "metadata": {},
   "outputs": [],
   "source": [
    "#get pages\n",
    "url = 'https://rickandmortyapi.com/api/character?page=1'\n",
    "response = requests.get(url)\n",
    "if response.status_code == 200:\n",
    "    pages = response.json()['info']['pages']\n",
    "\n",
    "page = 1\n",
    "data_pages = []\n",
    "while page <= pages:\n",
    "    url = f'https://rickandmortyapi.com/api/character?page={page}'\n",
    "    response = requests.get(url)\n",
    "    if response.status_code == 200:\n",
    "        response = response.json()\n",
    "        data_pages.extend(response['results'])\n",
    "        page += 1"
   ]
  },
  {
   "cell_type": "code",
   "execution_count": 8,
   "id": "1917a018",
   "metadata": {},
   "outputs": [
    {
     "data": {
      "text/plain": [
       "826"
      ]
     },
     "execution_count": 8,
     "metadata": {},
     "output_type": "execute_result"
    }
   ],
   "source": [
    "len(data_pages)"
   ]
  },
  {
   "cell_type": "code",
   "execution_count": 9,
   "id": "ae6e26c1",
   "metadata": {},
   "outputs": [
    {
     "data": {
      "text/html": [
       "<div>\n",
       "<style scoped>\n",
       "    .dataframe tbody tr th:only-of-type {\n",
       "        vertical-align: middle;\n",
       "    }\n",
       "\n",
       "    .dataframe tbody tr th {\n",
       "        vertical-align: top;\n",
       "    }\n",
       "\n",
       "    .dataframe thead th {\n",
       "        text-align: right;\n",
       "    }\n",
       "</style>\n",
       "<table border=\"1\" class=\"dataframe\">\n",
       "  <thead>\n",
       "    <tr style=\"text-align: right;\">\n",
       "      <th></th>\n",
       "      <th>id</th>\n",
       "      <th>name</th>\n",
       "      <th>status</th>\n",
       "      <th>species</th>\n",
       "      <th>type</th>\n",
       "      <th>gender</th>\n",
       "      <th>origin</th>\n",
       "      <th>location</th>\n",
       "      <th>image</th>\n",
       "      <th>episode</th>\n",
       "      <th>url</th>\n",
       "      <th>created</th>\n",
       "    </tr>\n",
       "  </thead>\n",
       "  <tbody>\n",
       "    <tr>\n",
       "      <th>0</th>\n",
       "      <td>1</td>\n",
       "      <td>Rick Sanchez</td>\n",
       "      <td>Alive</td>\n",
       "      <td>Human</td>\n",
       "      <td></td>\n",
       "      <td>Male</td>\n",
       "      <td>{'name': 'Earth (C-137)', 'url': 'https://rick...</td>\n",
       "      <td>{'name': 'Citadel of Ricks', 'url': 'https://r...</td>\n",
       "      <td>https://rickandmortyapi.com/api/character/avat...</td>\n",
       "      <td>[https://rickandmortyapi.com/api/episode/1, ht...</td>\n",
       "      <td>https://rickandmortyapi.com/api/character/1</td>\n",
       "      <td>2017-11-04T18:48:46.250Z</td>\n",
       "    </tr>\n",
       "    <tr>\n",
       "      <th>1</th>\n",
       "      <td>2</td>\n",
       "      <td>Morty Smith</td>\n",
       "      <td>Alive</td>\n",
       "      <td>Human</td>\n",
       "      <td></td>\n",
       "      <td>Male</td>\n",
       "      <td>{'name': 'unknown', 'url': ''}</td>\n",
       "      <td>{'name': 'Citadel of Ricks', 'url': 'https://r...</td>\n",
       "      <td>https://rickandmortyapi.com/api/character/avat...</td>\n",
       "      <td>[https://rickandmortyapi.com/api/episode/1, ht...</td>\n",
       "      <td>https://rickandmortyapi.com/api/character/2</td>\n",
       "      <td>2017-11-04T18:50:21.651Z</td>\n",
       "    </tr>\n",
       "    <tr>\n",
       "      <th>2</th>\n",
       "      <td>3</td>\n",
       "      <td>Summer Smith</td>\n",
       "      <td>Alive</td>\n",
       "      <td>Human</td>\n",
       "      <td></td>\n",
       "      <td>Female</td>\n",
       "      <td>{'name': 'Earth (Replacement Dimension)', 'url...</td>\n",
       "      <td>{'name': 'Earth (Replacement Dimension)', 'url...</td>\n",
       "      <td>https://rickandmortyapi.com/api/character/avat...</td>\n",
       "      <td>[https://rickandmortyapi.com/api/episode/6, ht...</td>\n",
       "      <td>https://rickandmortyapi.com/api/character/3</td>\n",
       "      <td>2017-11-04T19:09:56.428Z</td>\n",
       "    </tr>\n",
       "    <tr>\n",
       "      <th>3</th>\n",
       "      <td>4</td>\n",
       "      <td>Beth Smith</td>\n",
       "      <td>Alive</td>\n",
       "      <td>Human</td>\n",
       "      <td></td>\n",
       "      <td>Female</td>\n",
       "      <td>{'name': 'Earth (Replacement Dimension)', 'url...</td>\n",
       "      <td>{'name': 'Earth (Replacement Dimension)', 'url...</td>\n",
       "      <td>https://rickandmortyapi.com/api/character/avat...</td>\n",
       "      <td>[https://rickandmortyapi.com/api/episode/6, ht...</td>\n",
       "      <td>https://rickandmortyapi.com/api/character/4</td>\n",
       "      <td>2017-11-04T19:22:43.665Z</td>\n",
       "    </tr>\n",
       "    <tr>\n",
       "      <th>4</th>\n",
       "      <td>5</td>\n",
       "      <td>Jerry Smith</td>\n",
       "      <td>Alive</td>\n",
       "      <td>Human</td>\n",
       "      <td></td>\n",
       "      <td>Male</td>\n",
       "      <td>{'name': 'Earth (Replacement Dimension)', 'url...</td>\n",
       "      <td>{'name': 'Earth (Replacement Dimension)', 'url...</td>\n",
       "      <td>https://rickandmortyapi.com/api/character/avat...</td>\n",
       "      <td>[https://rickandmortyapi.com/api/episode/6, ht...</td>\n",
       "      <td>https://rickandmortyapi.com/api/character/5</td>\n",
       "      <td>2017-11-04T19:26:56.301Z</td>\n",
       "    </tr>\n",
       "  </tbody>\n",
       "</table>\n",
       "</div>"
      ],
      "text/plain": [
       "   id          name status species type  gender  \\\n",
       "0   1  Rick Sanchez  Alive   Human         Male   \n",
       "1   2   Morty Smith  Alive   Human         Male   \n",
       "2   3  Summer Smith  Alive   Human       Female   \n",
       "3   4    Beth Smith  Alive   Human       Female   \n",
       "4   5   Jerry Smith  Alive   Human         Male   \n",
       "\n",
       "                                              origin  \\\n",
       "0  {'name': 'Earth (C-137)', 'url': 'https://rick...   \n",
       "1                     {'name': 'unknown', 'url': ''}   \n",
       "2  {'name': 'Earth (Replacement Dimension)', 'url...   \n",
       "3  {'name': 'Earth (Replacement Dimension)', 'url...   \n",
       "4  {'name': 'Earth (Replacement Dimension)', 'url...   \n",
       "\n",
       "                                            location  \\\n",
       "0  {'name': 'Citadel of Ricks', 'url': 'https://r...   \n",
       "1  {'name': 'Citadel of Ricks', 'url': 'https://r...   \n",
       "2  {'name': 'Earth (Replacement Dimension)', 'url...   \n",
       "3  {'name': 'Earth (Replacement Dimension)', 'url...   \n",
       "4  {'name': 'Earth (Replacement Dimension)', 'url...   \n",
       "\n",
       "                                               image  \\\n",
       "0  https://rickandmortyapi.com/api/character/avat...   \n",
       "1  https://rickandmortyapi.com/api/character/avat...   \n",
       "2  https://rickandmortyapi.com/api/character/avat...   \n",
       "3  https://rickandmortyapi.com/api/character/avat...   \n",
       "4  https://rickandmortyapi.com/api/character/avat...   \n",
       "\n",
       "                                             episode  \\\n",
       "0  [https://rickandmortyapi.com/api/episode/1, ht...   \n",
       "1  [https://rickandmortyapi.com/api/episode/1, ht...   \n",
       "2  [https://rickandmortyapi.com/api/episode/6, ht...   \n",
       "3  [https://rickandmortyapi.com/api/episode/6, ht...   \n",
       "4  [https://rickandmortyapi.com/api/episode/6, ht...   \n",
       "\n",
       "                                           url                   created  \n",
       "0  https://rickandmortyapi.com/api/character/1  2017-11-04T18:48:46.250Z  \n",
       "1  https://rickandmortyapi.com/api/character/2  2017-11-04T18:50:21.651Z  \n",
       "2  https://rickandmortyapi.com/api/character/3  2017-11-04T19:09:56.428Z  \n",
       "3  https://rickandmortyapi.com/api/character/4  2017-11-04T19:22:43.665Z  \n",
       "4  https://rickandmortyapi.com/api/character/5  2017-11-04T19:26:56.301Z  "
      ]
     },
     "execution_count": 9,
     "metadata": {},
     "output_type": "execute_result"
    }
   ],
   "source": [
    "df_pages = pd.DataFrame(data_pages)\n",
    "df_pages.head()"
   ]
  },
  {
   "cell_type": "markdown",
   "id": "fc82c0d2",
   "metadata": {},
   "source": [
    "## 3 Using Next_page"
   ]
  },
  {
   "cell_type": "code",
   "execution_count": null,
   "id": "dc7419d5",
   "metadata": {
    "scrolled": true
   },
   "outputs": [],
   "source": [
    "url = 'https://rickandmortyapi.com/api/character?page=1'\n",
    "data_next_page = []\n",
    "while url:\n",
    "#     print(f'Requesting,  {url}')\n",
    "    response = requests.get(url)\n",
    "    if response.status_code == 200:\n",
    "        response = response.json()\n",
    "        data_next_page.extend(response['results'])\n",
    "        url = response['info']['next']"
   ]
  },
  {
   "cell_type": "code",
   "execution_count": null,
   "id": "53fd6029",
   "metadata": {},
   "outputs": [],
   "source": [
    "len(data_next_page)"
   ]
  },
  {
   "cell_type": "code",
   "execution_count": null,
   "id": "fd6eac25",
   "metadata": {},
   "outputs": [],
   "source": [
    "df_data_next_page = pd.DataFrame(data_next_page)\n",
    "df_data_next_page.head()"
   ]
  },
  {
   "cell_type": "code",
   "execution_count": null,
   "id": "fc45f276",
   "metadata": {},
   "outputs": [],
   "source": [
    "import this"
   ]
  },
  {
   "cell_type": "code",
   "execution_count": 10,
   "id": "3cd4f822",
   "metadata": {},
   "outputs": [
    {
     "data": {
      "text/plain": [
       "{'info': {'count': 826,\n",
       "  'pages': 42,\n",
       "  'next': None,\n",
       "  'prev': 'https://rickandmortyapi.com/api/character?page=41'},\n",
       " 'results': [{'id': 821,\n",
       "   'name': 'Gotron',\n",
       "   'status': 'unknown',\n",
       "   'species': 'Robot',\n",
       "   'type': 'Ferret Robot',\n",
       "   'gender': 'Genderless',\n",
       "   'origin': {'name': 'Earth (Replacement Dimension)',\n",
       "    'url': 'https://rickandmortyapi.com/api/location/20'},\n",
       "   'location': {'name': 'Earth (Replacement Dimension)',\n",
       "    'url': 'https://rickandmortyapi.com/api/location/20'},\n",
       "   'image': 'https://rickandmortyapi.com/api/character/avatar/821.jpeg',\n",
       "   'episode': ['https://rickandmortyapi.com/api/episode/48'],\n",
       "   'url': 'https://rickandmortyapi.com/api/character/821',\n",
       "   'created': '2021-11-02T17:15:24.788Z'},\n",
       "  {'id': 822,\n",
       "   'name': 'Young Jerry',\n",
       "   'status': 'unknown',\n",
       "   'species': 'Human',\n",
       "   'type': '',\n",
       "   'gender': 'Male',\n",
       "   'origin': {'name': 'Earth (Unknown dimension)',\n",
       "    'url': 'https://rickandmortyapi.com/api/location/30'},\n",
       "   'location': {'name': 'Earth (Unknown dimension)',\n",
       "    'url': 'https://rickandmortyapi.com/api/location/30'},\n",
       "   'image': 'https://rickandmortyapi.com/api/character/avatar/822.jpeg',\n",
       "   'episode': ['https://rickandmortyapi.com/api/episode/51'],\n",
       "   'url': 'https://rickandmortyapi.com/api/character/822',\n",
       "   'created': '2021-11-02T17:18:31.934Z'},\n",
       "  {'id': 823,\n",
       "   'name': 'Young Beth',\n",
       "   'status': 'unknown',\n",
       "   'species': 'Human',\n",
       "   'type': '',\n",
       "   'gender': 'Female',\n",
       "   'origin': {'name': 'Earth (Unknown dimension)',\n",
       "    'url': 'https://rickandmortyapi.com/api/location/30'},\n",
       "   'location': {'name': 'Earth (Unknown dimension)',\n",
       "    'url': 'https://rickandmortyapi.com/api/location/30'},\n",
       "   'image': 'https://rickandmortyapi.com/api/character/avatar/823.jpeg',\n",
       "   'episode': ['https://rickandmortyapi.com/api/episode/51'],\n",
       "   'url': 'https://rickandmortyapi.com/api/character/823',\n",
       "   'created': '2021-11-02T17:19:00.951Z'},\n",
       "  {'id': 824,\n",
       "   'name': 'Young Beth',\n",
       "   'status': 'unknown',\n",
       "   'species': 'Human',\n",
       "   'type': '',\n",
       "   'gender': 'Female',\n",
       "   'origin': {'name': 'Earth (Unknown dimension)',\n",
       "    'url': 'https://rickandmortyapi.com/api/location/30'},\n",
       "   'location': {'name': 'Earth (Unknown dimension)',\n",
       "    'url': 'https://rickandmortyapi.com/api/location/30'},\n",
       "   'image': 'https://rickandmortyapi.com/api/character/avatar/824.jpeg',\n",
       "   'episode': ['https://rickandmortyapi.com/api/episode/51'],\n",
       "   'url': 'https://rickandmortyapi.com/api/character/824',\n",
       "   'created': '2021-11-02T17:19:47.957Z'},\n",
       "  {'id': 825,\n",
       "   'name': 'Young Jerry',\n",
       "   'status': 'unknown',\n",
       "   'species': 'Human',\n",
       "   'type': '',\n",
       "   'gender': 'Male',\n",
       "   'origin': {'name': 'Earth (Unknown dimension)',\n",
       "    'url': 'https://rickandmortyapi.com/api/location/30'},\n",
       "   'location': {'name': 'Earth (Unknown dimension)',\n",
       "    'url': 'https://rickandmortyapi.com/api/location/30'},\n",
       "   'image': 'https://rickandmortyapi.com/api/character/avatar/825.jpeg',\n",
       "   'episode': ['https://rickandmortyapi.com/api/episode/51'],\n",
       "   'url': 'https://rickandmortyapi.com/api/character/825',\n",
       "   'created': '2021-11-02T17:20:14.305Z'},\n",
       "  {'id': 826,\n",
       "   'name': 'Butter Robot',\n",
       "   'status': 'Alive',\n",
       "   'species': 'Robot',\n",
       "   'type': 'Passing Butter Robot',\n",
       "   'gender': 'Genderless',\n",
       "   'origin': {'name': 'Earth (Replacement Dimension)',\n",
       "    'url': 'https://rickandmortyapi.com/api/location/20'},\n",
       "   'location': {'name': 'Earth (Replacement Dimension)',\n",
       "    'url': 'https://rickandmortyapi.com/api/location/20'},\n",
       "   'image': 'https://rickandmortyapi.com/api/character/avatar/826.jpeg',\n",
       "   'episode': ['https://rickandmortyapi.com/api/episode/9'],\n",
       "   'url': 'https://rickandmortyapi.com/api/character/826',\n",
       "   'created': '2021-11-02T17:24:37.458Z'}]}"
      ]
     },
     "execution_count": 10,
     "metadata": {},
     "output_type": "execute_result"
    }
   ],
   "source": [
    "response"
   ]
  },
  {
   "cell_type": "markdown",
   "id": "a92b6f0d",
   "metadata": {},
   "source": [
    "## Using Results"
   ]
  },
  {
   "cell_type": "code",
   "execution_count": 14,
   "id": "0ae7bf42",
   "metadata": {},
   "outputs": [
    {
     "name": "stdout",
     "output_type": "stream",
     "text": [
      "12\n",
      "12\n",
      "12\n",
      "No more results, Exit loop\n"
     ]
    }
   ],
   "source": [
    "url = 'https://rickandmortyapi.com/api/character?page='\n",
    "page_num = 40\n",
    "data_results = []\n",
    "\n",
    "while True:\n",
    "    url = f'https://rickandmortyapi.com/api/character?page={page_num}'\n",
    "    response = requests.get(url)\n",
    "    data  = response.json()\n",
    "    \n",
    "    try:\n",
    "        print(len(data['results'][0]))\n",
    "    except:\n",
    "        print('No more results, Exit loop')\n",
    "        break\n",
    "    data_results.extend(data['results'])    \n",
    "    page_num +=1\n"
   ]
  },
  {
   "cell_type": "code",
   "execution_count": null,
   "id": "70b2c78c",
   "metadata": {},
   "outputs": [],
   "source": [
    "len(data_results)"
   ]
  },
  {
   "cell_type": "code",
   "execution_count": null,
   "id": "3d463220",
   "metadata": {},
   "outputs": [],
   "source": [
    "df_data_results = pd.DataFrame(data_results)\n",
    "df_data_results.head()"
   ]
  },
  {
   "cell_type": "code",
   "execution_count": null,
   "id": "ef24106c",
   "metadata": {},
   "outputs": [],
   "source": []
  }
 ],
 "metadata": {
  "kernelspec": {
   "display_name": "Python 3 (ipykernel)",
   "language": "python",
   "name": "python3"
  },
  "language_info": {
   "codemirror_mode": {
    "name": "ipython",
    "version": 3
   },
   "file_extension": ".py",
   "mimetype": "text/x-python",
   "name": "python",
   "nbconvert_exporter": "python",
   "pygments_lexer": "ipython3",
   "version": "3.9.12"
  }
 },
 "nbformat": 4,
 "nbformat_minor": 5
}
